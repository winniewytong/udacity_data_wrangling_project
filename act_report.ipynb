{
 "cells": [
  {
   "cell_type": "markdown",
   "metadata": {},
   "source": [
    "## Data Analysis Report"
   ]
  },
  {
   "cell_type": "markdown",
   "metadata": {},
   "source": [
    "#### Reporting Requirements:\n",
    "\n",
    "- Create a **250-word-minimum written report** called *act_report.pdf or act_report.html* that communicates the insights and displays the visualization(s) produced from your wrangled data. This is to be framed as an external document, like a blog post or magazine article, for example."
   ]
  },
  {
   "cell_type": "markdown",
   "metadata": {},
   "source": [
    "#### Summary of questions\n",
    "\n",
    "*During the data wrangling process, I came up with 4 questions that I thought would be worth-exploring:*\n",
    "\n",
    ">1. What is the relationship between favourite_count and retweet_count on Twitter?\n",
    ">2. What are the sources of the tweets? \n",
    ">3. From the result of the first algorithm to predict the breed of the dog via images, how many images can be predicted with at least 95% confidence and what are they top 5 breeds from the prediction? \n",
    ">4. Among the 3 prediction algorithms, which one is more reliable?"
   ]
  },
  {
   "cell_type": "markdown",
   "metadata": {},
   "source": [
    "# Data Analysis"
   ]
  },
  {
   "cell_type": "markdown",
   "metadata": {},
   "source": [
    "#### Question 1: What is the relationship between favourite_count and retweet_count on Twitter?"
   ]
  },
  {
   "cell_type": "code",
   "execution_count": 26,
   "metadata": {},
   "outputs": [
    {
     "name": "stdout",
     "output_type": "stream",
     "text": [
      "The correlation coefficient between retweet and favourite count is 0.861987708294\n"
     ]
    }
   ],
   "source": [
    "# We want to understand the relationship between retweet and favourite count"
   ]
  },
  {
   "attachments": {
    "test1.png": {
     "image/png": "[encoded data removed]"
    }
   },
   "cell_type": "markdown",
   "metadata": {},
   "source": [
    "![test1.png](attachment:test1.png)"
   ]
  },
  {
   "cell_type": "markdown",
   "metadata": {},
   "source": [
    ">#### Insight 1(a)\n",
    "- The scatter plot above shows that favourite counts and retweet counts are positively correlated. \n",
    "- The correlation coefficient between retweet and favourite counts is 0.86, showing a strong positively correlated relationship.\n",
    "- Some retweets have no favorite_count. "
   ]
  },
  {
   "cell_type": "code",
   "execution_count": 24,
   "metadata": {},
   "outputs": [
    {
     "data": {
      "text/html": [
       "<table class=\"simpletable\">\n",
       "<caption>OLS Regression Results</caption>\n",
       "<tr>\n",
       "  <th>Dep. Variable:</th>     <td>favorite_count</td>  <th>  R-squared:         </th> <td>   0.743</td> \n",
       "</tr>\n",
       "<tr>\n",
       "  <th>Model:</th>                   <td>OLS</td>       <th>  Adj. R-squared:    </th> <td>   0.743</td> \n",
       "</tr>\n",
       "<tr>\n",
       "  <th>Method:</th>             <td>Least Squares</td>  <th>  F-statistic:       </th> <td>   5948.</td> \n",
       "</tr>\n",
       "<tr>\n",
       "  <th>Date:</th>             <td>Wed, 04 Mar 2020</td> <th>  Prob (F-statistic):</th>  <td>  0.00</td>  \n",
       "</tr>\n",
       "<tr>\n",
       "  <th>Time:</th>                 <td>11:36:28</td>     <th>  Log-Likelihood:    </th> <td> -20892.</td> \n",
       "</tr>\n",
       "<tr>\n",
       "  <th>No. Observations:</th>      <td>  2059</td>      <th>  AIC:               </th> <td>4.179e+04</td>\n",
       "</tr>\n",
       "<tr>\n",
       "  <th>Df Residuals:</th>          <td>  2057</td>      <th>  BIC:               </th> <td>4.180e+04</td>\n",
       "</tr>\n",
       "<tr>\n",
       "  <th>Df Model:</th>              <td>     1</td>      <th>                     </th>     <td> </td>    \n",
       "</tr>\n",
       "<tr>\n",
       "  <th>Covariance Type:</th>      <td>nonrobust</td>    <th>                     </th>     <td> </td>    \n",
       "</tr>\n",
       "</table>\n",
       "<table class=\"simpletable\">\n",
       "<tr>\n",
       "        <td></td>           <th>coef</th>     <th>std err</th>      <th>t</th>      <th>P>|t|</th>  <th>[0.025</th>    <th>0.975]</th>  \n",
       "</tr>\n",
       "<tr>\n",
       "  <th>intercept</th>     <td> 2054.6223</td> <td>  156.851</td> <td>   13.099</td> <td> 0.000</td> <td> 1747.019</td> <td> 2362.225</td>\n",
       "</tr>\n",
       "<tr>\n",
       "  <th>retweet_count</th> <td>    2.2989</td> <td>    0.030</td> <td>   77.121</td> <td> 0.000</td> <td>    2.240</td> <td>    2.357</td>\n",
       "</tr>\n",
       "</table>\n",
       "<table class=\"simpletable\">\n",
       "<tr>\n",
       "  <th>Omnibus:</th>       <td>1212.289</td> <th>  Durbin-Watson:     </th> <td>   1.182</td> \n",
       "</tr>\n",
       "<tr>\n",
       "  <th>Prob(Omnibus):</th>  <td> 0.000</td>  <th>  Jarque-Bera (JB):  </th> <td>88439.298</td>\n",
       "</tr>\n",
       "<tr>\n",
       "  <th>Skew:</th>           <td>-1.951</td>  <th>  Prob(JB):          </th> <td>    0.00</td> \n",
       "</tr>\n",
       "<tr>\n",
       "  <th>Kurtosis:</th>       <td>34.869</td>  <th>  Cond. No.          </th> <td>6.06e+03</td> \n",
       "</tr>\n",
       "</table>"
      ],
      "text/plain": [
       "<class 'statsmodels.iolib.summary.Summary'>\n",
       "\"\"\"\n",
       "                            OLS Regression Results                            \n",
       "==============================================================================\n",
       "Dep. Variable:         favorite_count   R-squared:                       0.743\n",
       "Model:                            OLS   Adj. R-squared:                  0.743\n",
       "Method:                 Least Squares   F-statistic:                     5948.\n",
       "Date:                Wed, 04 Mar 2020   Prob (F-statistic):               0.00\n",
       "Time:                        11:36:28   Log-Likelihood:                -20892.\n",
       "No. Observations:                2059   AIC:                         4.179e+04\n",
       "Df Residuals:                    2057   BIC:                         4.180e+04\n",
       "Df Model:                           1                                         \n",
       "Covariance Type:            nonrobust                                         \n",
       "=================================================================================\n",
       "                    coef    std err          t      P>|t|      [0.025      0.975]\n",
       "---------------------------------------------------------------------------------\n",
       "intercept      2054.6223    156.851     13.099      0.000    1747.019    2362.225\n",
       "retweet_count     2.2989      0.030     77.121      0.000       2.240       2.357\n",
       "==============================================================================\n",
       "Omnibus:                     1212.289   Durbin-Watson:                   1.182\n",
       "Prob(Omnibus):                  0.000   Jarque-Bera (JB):            88439.298\n",
       "Skew:                          -1.951   Prob(JB):                         0.00\n",
       "Kurtosis:                      34.869   Cond. No.                     6.06e+03\n",
       "==============================================================================\n",
       "\n",
       "Warnings:\n",
       "[1] Standard Errors assume that the covariance matrix of the errors is correctly specified.\n",
       "[2] The condition number is large, 6.06e+03. This might indicate that there are\n",
       "strong multicollinearity or other numerical problems.\n",
       "\"\"\""
      ]
     },
     "execution_count": 24,
     "metadata": {},
     "output_type": "execute_result"
    }
   ],
   "source": [
    "# The statistics below tell us more whether it is useful to use retweet as an indepedent \n",
    "# variable affecting the number of favourite counts on Twitter"
   ]
  },
  {
   "cell_type": "markdown",
   "metadata": {},
   "source": [
    ">#### Insight (1b)\n",
    "- In the regression model above, retweet_count is the independent variable and the favourite_count is the dependent variable. \n",
    "- The regression model above is able to explain 74.3% of the population.\n",
    "- The P-value of the retweet_count is 0.00, which means that we can reject the null hypothesis of retweet_count having no effect on favourite_count. \n",
    "- On average, every one unit of retweet_count leads to an increase of favourite_count by 2.298 unit. "
   ]
  },
  {
   "cell_type": "markdown",
   "metadata": {},
   "source": [
    "#### Question 2: What are the sources of the tweets? "
   ]
  },
  {
   "cell_type": "markdown",
   "metadata": {},
   "source": [
    "**Sources and the counts:**\n",
    "- Twitter for iPhone : 2019\n",
    "<br>\n",
    "- Twitter Web Client : 30\n",
    "<br>\n",
    "- TweetDeck : 10\n"
   ]
  },
  {
   "attachments": {
    "test2.png": {
     "image/png": "[encoded data removed]"
    }
   },
   "cell_type": "markdown",
   "metadata": {},
   "source": [
    "![test2.png](attachment:test2.png)"
   ]
  },
  {
   "cell_type": "markdown",
   "metadata": {},
   "source": [
    ">**Insight 2**\n",
    "- The tweets are predominantly from iPhones.\n",
    "- There are barely any users from the Twitter website or TweetDeck. \n",
    "- However, it seems like the data is lacking information about users who are not using iPhone. There could be a chance that all mobile users have been grouped up as iPhone but this is worth investigating. "
   ]
  },
  {
   "cell_type": "markdown",
   "metadata": {},
   "source": [
    "#### Question 3: From the result of the first algorithm to predict the breed of the dog via images, how many images can be predicted with at least 95% confidence and what are they top 5 breeds from the prediction? "
   ]
  },
  {
   "cell_type": "markdown",
   "metadata": {},
   "source": [
    ">**Insight 3**\n",
    "- From the 1st algorithm predicting the breed of dogs, only 188 images could be predicted with at least 95% confidence. \n",
    "- When dogs are holding other objects, it seems like all the predictions won't be able to differentiate between objects and dogs from the image as each of the 3 algorithms has predicted at least 500 non-dog objects.\n",
    "- Only about 9% of images can be predicted with at least 95% confidence.\n",
    "- The top 5 breeds from the prediction are pug (21), samoyed (19),pembroke (19), golden_retriever (18) and pomeranian (13)."
   ]
  },
  {
   "cell_type": "markdown",
   "metadata": {},
   "source": [
    "#### Question 4: Among the 3 prediction algorithms, which one is more reliable?"
   ]
  },
  {
   "cell_type": "markdown",
   "metadata": {},
   "source": [
    ">**Insight 4**\n",
    "- Among the 3 algorithms, it seems that the first algorithm is more reliable in predicting the breed of dogs via its images as it is able to predict 9% of images with at least 95% confidence, while the other two algorithms do have any prediction with more than 95% confidence."
   ]
  }
 ],
 "metadata": {
  "celltoolbar": "Attachments",
  "kernelspec": {
   "display_name": "Python 3",
   "language": "python",
   "name": "python3"
  },
  "language_info": {
   "codemirror_mode": {
    "name": "ipython",
    "version": 3
   },
   "file_extension": ".py",
   "mimetype": "text/x-python",
   "name": "python",
   "nbconvert_exporter": "python",
   "pygments_lexer": "ipython3",
   "version": "3.6.3"
  }
 },
 "nbformat": 4,
 "nbformat_minor": 2
}
